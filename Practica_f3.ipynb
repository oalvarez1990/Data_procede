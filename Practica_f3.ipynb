{
 "cells": [
  {
   "cell_type": "code",
   "execution_count": 0,
   "metadata": {
    "application/vnd.databricks.v1+cell": {
     "cellMetadata": {
      "byteLimit": 2048000,
      "rowLimit": 10000
     },
     "inputWidgets": {},
     "nuid": "c7d90b5e-7d56-421c-bd82-f80ff26608eb",
     "showTitle": false,
     "title": ""
    },
    "id": "XkeBIXcfmUDk"
   },
   "outputs": [],
   "source": [
    "#Desde la librería \"pyspark.sql.types\" importamos los utilitarios \"StructType\" y el \"StructField\"\n",
    "#\"StrucType\" nos permite modificar el esquema de metadatos de un dataframe\n",
    "#\"StructField\" nos permite modificar a un campo del esquema de metadatos.\n",
    "#Tambien es necesario importar los tipos de datos que utilizaremos\n",
    "from pyspark.sql.types import StructType, StructField, StringType, IntegerType, DoubleType"
   ]
  },
  {
   "cell_type": "code",
   "execution_count": 0,
   "metadata": {
    "application/vnd.databricks.v1+cell": {
     "cellMetadata": {
      "byteLimit": 2048000,
      "rowLimit": 10000
     },
     "inputWidgets": {},
     "nuid": "59cbe5a2-cc51-44b8-b0f3-fdbd62867164",
     "showTitle": false,
     "title": ""
    },
    "id": "jBIAvpNpmUDl"
   },
   "outputs": [],
   "source": [
    "#Tambien, es posible hacer esto -> Importacion de todos los utilitarios de forma conjunta\n",
    "from pyspark.sql.types import *"
   ]
  },
  {
   "cell_type": "code",
   "execution_count": 0,
   "metadata": {
    "application/vnd.databricks.v1+cell": {
     "cellMetadata": {
      "byteLimit": 2048000,
      "rowLimit": 10000
     },
     "inputWidgets": {},
     "nuid": "37179036-d042-4734-b5dd-a9e44aface8e",
     "showTitle": false,
     "title": ""
    },
    "id": "_axNukWjmUDl"
   },
   "outputs": [],
   "source": [
    "#Leemos el archivo de persona, con un esquema de metadatos predefinido\n",
    "dfPersona = spark.read.format(\"csv\").option(\"header\", \"true\").option(\"delimiter\", \"|\").schema(\n",
    "    StructType(\n",
    "        [\n",
    "            StructField(\"ID\", StringType(), True),\n",
    "            StructField(\"NOMBRE\", StringType(), True),\n",
    "            StructField(\"TELEFONO\", StringType(), True),\n",
    "            StructField(\"CORREO\", StringType(), True),\n",
    "            StructField(\"FECHA_INGRESO\", StringType(), True),\n",
    "            StructField(\"EDAD\", IntegerType(), True),\n",
    "            StructField(\"SALARIO\", DoubleType(), True),\n",
    "            StructField(\"ID_EMPRESA\", StringType(), True)\n",
    "        ]\n",
    "    )\n",
    ").load(\"dbfs:/FileStore/Bigdata-factory/persona.data\")"
   ]
  },
  {
   "cell_type": "code",
   "execution_count": 0,
   "metadata": {
    "application/vnd.databricks.v1+cell": {
     "cellMetadata": {
      "byteLimit": 2048000,
      "rowLimit": 10000
     },
     "inputWidgets": {},
     "nuid": "50cd2f58-8173-4480-9cf4-adb3db3b8cfc",
     "showTitle": false,
     "title": ""
    },
    "id": "jkcMBsZqmUDm",
    "outputId": "5b2021f7-a8d9-4d07-fc27-80d5862ff780"
   },
   "outputs": [
    {
     "output_type": "stream",
     "name": "stdout",
     "output_type": "stream",
     "text": [
      "+---+---------+--------------+--------------------+-------------+----+-------+----------+\n| ID|   NOMBRE|      TELEFONO|              CORREO|FECHA_INGRESO|EDAD|SALARIO|ID_EMPRESA|\n+---+---------+--------------+--------------------+-------------+----+-------+----------+\n|  1|     Carl|1-745-633-9145|arcu.Sed.et@ante....|   2004-04-23|  32|20095.0|         5|\n|  2|Priscilla|      155-2498|Donec.egestas.Ali...|   2019-02-17|  34| 9298.0|         2|\n|  3|  Jocelyn|1-204-956-8594|amet.diam@loborti...|   2002-08-01|  27|10853.0|         3|\n|  4|    Aidan|1-719-862-9385|euismod.et.commod...|   2018-11-06|  29| 3387.0|        10|\n|  5|  Leandra|      839-8044|at@pretiumetrutru...|   2002-10-10|  41|22102.0|         1|\n|  6|     Bert|      797-4453|a.felis.ullamcorp...|   2017-04-25|  70| 7800.0|         7|\n|  7|     Mark|1-680-102-6792|Quisque.ac@placer...|   2006-04-21|  52| 8112.0|         5|\n|  8|    Jonah|      214-2975|eu.ultrices.sit@v...|   2017-10-07|  23|17040.0|         5|\n|  9|    Hanae|      935-2277|          eu@Nunc.ca|   2003-05-25|  69| 6834.0|         3|\n| 10|   Cadman|1-866-561-2701|orci.adipiscing.n...|   2001-05-19|  19| 7996.0|         7|\n+---+---------+--------------+--------------------+-------------+----+-------+----------+\nonly showing top 10 rows\n\n"
     ]
    }
   ],
   "source": [
    "#Mostramos los datos\n",
    "dfPersona.show(10)"
   ]
  },
  {
   "cell_type": "code",
   "execution_count": 0,
   "metadata": {
    "application/vnd.databricks.v1+cell": {
     "cellMetadata": {
      "byteLimit": 2048000,
      "rowLimit": 10000
     },
     "inputWidgets": {},
     "nuid": "6cd32ec2-7d97-415d-b141-23c8b454ca5d",
     "showTitle": false,
     "title": ""
    },
    "id": "CZhr8olAmUDm"
   },
   "outputs": [
    {
     "output_type": "stream",
     "name": "stdout",
     "output_type": "stream",
     "text": [
      "Out[24]: (None,)"
     ]
    }
   ],
   "source": [
    "#Creacion de la vista temporal para utilizar con Spark SQL\n",
    "dfPersona.createOrReplaceTempView(\"dfPersona\"),\n",
    "#Imprimir listado de catalog\n",
    "#print(spark.catalog.listTables())\n"
   ]
  },
  {
   "cell_type": "code",
   "execution_count": 0,
   "metadata": {
    "application/vnd.databricks.v1+cell": {
     "cellMetadata": {
      "byteLimit": 2048000,
      "rowLimit": 10000
     },
     "inputWidgets": {},
     "nuid": "19d7835f-582e-49a5-8af4-c027a5bb4cea",
     "showTitle": false,
     "title": ""
    }
   },
   "outputs": [],
   "source": [
    "from pyspark.sql.types import StructType, StructField, StringType, IntegerType\n",
    "from pyspark.sql.functions import lit\n",
    "\n",
    "# Crear un DataFrame para empresas que vamos asociar a empleados\n",
    "dfEmpresa = spark.createDataFrame([\n",
    "    (\"1\", \"Finakad SAS\", \"Tecnología\"),\n",
    "    (\"2\", \"A su contador SAS\", \"Finanzas\"),\n",
    "    (\"3\", \"Medical True SAS\", \"Salud\")\n",
    "], [\"ID_EMPRESA\", \"NOMBRE_EMPRESA\", \"SECTOR\"])\n",
    "\n",
    "# Crear tabla temporal de empresas\n",
    "dfEmpresa.createOrReplaceTempView(\"df_empresa_temp\")"
   ]
  },
  {
   "cell_type": "code",
   "execution_count": 0,
   "metadata": {
    "application/vnd.databricks.v1+cell": {
     "cellMetadata": {
      "byteLimit": 2048000,
      "rowLimit": 10000
     },
     "inputWidgets": {},
     "nuid": "f3065a8e-bfc1-4da8-8a0c-325233118dbb",
     "showTitle": false,
     "title": ""
    }
   },
   "outputs": [
    {
     "output_type": "stream",
     "name": "stdout",
     "output_type": "stream",
     "text": [
      "+----------+-----------------+----------+\n|ID_EMPRESA|   NOMBRE_EMPRESA|    SECTOR|\n+----------+-----------------+----------+\n|         1|      Finakad SAS|Tecnología|\n|         2|A su contador SAS|  Finanzas|\n|         3| Medical True SAS|     Salud|\n+----------+-----------------+----------+\n\n"
     ]
    }
   ],
   "source": [
    "# Consulta para ver todos los datos en dfEmpresa\n",
    "dfEmpresa.show(5)"
   ]
  },
  {
   "cell_type": "code",
   "execution_count": 0,
   "metadata": {
    "application/vnd.databricks.v1+cell": {
     "cellMetadata": {
      "byteLimit": 2048000,
      "rowLimit": 10000
     },
     "inputWidgets": {},
     "nuid": "ece5e1bb-38d1-4530-820e-297f649c6b97",
     "showTitle": false,
     "title": ""
    }
   },
   "outputs": [
    {
     "output_type": "stream",
     "name": "stdout",
     "output_type": "stream",
     "text": [
      "Datos de persona_temp:\n+---+---------+--------------+--------------------+-------------+----+-------+----------+\n| ID|   NOMBRE|      TELEFONO|              CORREO|FECHA_INGRESO|EDAD|SALARIO|ID_EMPRESA|\n+---+---------+--------------+--------------------+-------------+----+-------+----------+\n|  1|     Carl|1-745-633-9145|arcu.Sed.et@ante....|   2004-04-23|  32|20095.0|         5|\n|  2|Priscilla|      155-2498|Donec.egestas.Ali...|   2019-02-17|  34| 9298.0|         2|\n|  3|  Jocelyn|1-204-956-8594|amet.diam@loborti...|   2002-08-01|  27|10853.0|         3|\n|  4|    Aidan|1-719-862-9385|euismod.et.commod...|   2018-11-06|  29| 3387.0|        10|\n|  5|  Leandra|      839-8044|at@pretiumetrutru...|   2002-10-10|  41|22102.0|         1|\n+---+---------+--------------+--------------------+-------------+----+-------+----------+\n\nDatos de empresa_temp:\n+----------+-----------------+----------+\n|ID_EMPRESA|   NOMBRE_EMPRESA|    SECTOR|\n+----------+-----------------+----------+\n|         1|      Finakad SAS|Tecnología|\n|         2|A su contador SAS|  Finanzas|\n|         3| Medical True SAS|     Salud|\n+----------+-----------------+----------+\n\n"
     ]
    }
   ],
   "source": [
    "# Consulto las ambas tablas por separado\n",
    "print(\"Datos de persona_temp:\")\n",
    "spark.sql(\"SELECT * FROM dfPersona LIMIT 5\").show()\n",
    "#\n",
    "print(\"Datos de empresa_temp:\")\n",
    "spark.sql(\"SELECT * FROM df_empresa_temp\").show()"
   ]
  },
  {
   "cell_type": "code",
   "execution_count": 0,
   "metadata": {
    "application/vnd.databricks.v1+cell": {
     "cellMetadata": {
      "byteLimit": 2048000,
      "rowLimit": 10000
     },
     "inputWidgets": {},
     "nuid": "02a0a8c7-6ea2-4277-9f6f-4cc7c587e6fd",
     "showTitle": false,
     "title": ""
    }
   },
   "outputs": [
    {
     "output_type": "stream",
     "name": "stdout",
     "output_type": "stream",
     "text": [
      "Resultado de UNION:\n+---+---------+----------+\n| ID|   NOMBRE|ID_EMPRESA|\n+---+---------+----------+\n|  9|    Hanae|         3|\n| 13|   Trevor|         5|\n| 17|     Omar|         6|\n|  8|    Jonah|         5|\n|  2|Priscilla|         2|\n| 20|    Emery|         9|\n|  7|     Mark|         5|\n|  5|  Leandra|         1|\n| 15|    Wanda|         5|\n|  1|     Carl|         5|\n| 12|   Tanner|         8|\n|  4|    Aidan|        10|\n| 10|   Cadman|         7|\n| 19|    Laura|         4|\n| 16|    Alden|         2|\n| 14|    Allen|         2|\n| 21|  Carissa|        10|\n|  3|  Jocelyn|         3|\n| 18|     Owen|         7|\n| 11|  Melyssa|         8|\n+---+---------+----------+\nonly showing top 20 rows\n\n"
     ]
    }
   ],
   "source": [
    "union_query = \"\"\"\n",
    "SELECT ID, NOMBRE, ID_EMPRESA FROM dfPersona\n",
    "UNION\n",
    "SELECT ID_EMPRESA, NOMBRE_EMPRESA, ID_EMPRESA FROM empresa_temp\n",
    "\"\"\"\n",
    "union_result = spark.sql(union_query)\n",
    "\n",
    "print(\"Resultado de UNION:\")\n",
    "union_result.show()"
   ]
  },
  {
   "cell_type": "code",
   "execution_count": 0,
   "metadata": {
    "application/vnd.databricks.v1+cell": {
     "cellMetadata": {
      "byteLimit": 2048000,
      "rowLimit": 10000
     },
     "inputWidgets": {},
     "nuid": "7e9d8c9b-c718-456e-83b9-625d9192071c",
     "showTitle": false,
     "title": ""
    }
   },
   "outputs": [
    {
     "output_type": "stream",
     "name": "stdout",
     "output_type": "stream",
     "text": [
      "Resultado de INNER JOIN:\n+---+-------+-------+-----------------+----------+\n| ID| NOMBRE|SALARIO|   NOMBRE_EMPRESA|    SECTOR|\n+---+-------+-------+-----------------+----------+\n| 99|    Ray| 5570.0|      Finakad SAS|Tecnología|\n| 93| Althea| 8818.0|      Finakad SAS|Tecnología|\n| 87|  Karly| 3715.0|      Finakad SAS|Tecnología|\n| 70|   Suki|12029.0|      Finakad SAS|Tecnología|\n| 54|   Lars|20573.0|      Finakad SAS|Tecnología|\n| 32| Gisela| 6497.0|      Finakad SAS|Tecnología|\n|  5|Leandra|22102.0|      Finakad SAS|Tecnología|\n| 96|   Amos|15855.0|A su contador SAS|  Finanzas|\n| 83|Giselle| 2503.0|A su contador SAS|  Finanzas|\n| 81|    Joy| 1256.0|A su contador SAS|  Finanzas|\n| 78| Lenore| 1483.0|A su contador SAS|  Finanzas|\n| 67|  Buffy|15116.0|A su contador SAS|  Finanzas|\n| 66| Adrian|22953.0|A su contador SAS|  Finanzas|\n| 60|Bernard|10825.0|A su contador SAS|  Finanzas|\n| 43|  Yetta|21452.0|A su contador SAS|  Finanzas|\n| 33|    Jin|22038.0|A su contador SAS|  Finanzas|\n| 29|   Jana| 6483.0|A su contador SAS|  Finanzas|\n| 22|   Kibo| 7449.0|A su contador SAS|  Finanzas|\n| 16|  Alden| 3377.0|A su contador SAS|  Finanzas|\n| 14|  Allen|16289.0|A su contador SAS|  Finanzas|\n+---+-------+-------+-----------------+----------+\nonly showing top 20 rows\n\n"
     ]
    }
   ],
   "source": [
    "# Ejemplo de INNER JOIN\n",
    "inner_join_query = \"\"\"\n",
    "SELECT p.ID, p.NOMBRE, p.SALARIO, e.NOMBRE_EMPRESA, e.SECTOR\n",
    "FROM dfPersona p\n",
    "INNER JOIN df_empresa_temp e ON p.ID_EMPRESA = e.ID_EMPRESA\n",
    "\"\"\"\n",
    "inner_join_result = spark.sql(inner_join_query)\n",
    "#\n",
    "print(\"Resultado de INNER JOIN:\")\n",
    "inner_join_result.show()"
   ]
  },
  {
   "cell_type": "code",
   "execution_count": 0,
   "metadata": {
    "application/vnd.databricks.v1+cell": {
     "cellMetadata": {
      "byteLimit": 2048000,
      "rowLimit": 10000
     },
     "inputWidgets": {},
     "nuid": "4c5284e7-8992-4126-81ef-9d1614aa77cb",
     "showTitle": false,
     "title": ""
    }
   },
   "outputs": [
    {
     "output_type": "stream",
     "name": "stdout",
     "output_type": "stream",
     "text": [
      "+---------+-----------------+----------+\n| Empleado|  Empresa_Cliente|    SECTOR|\n+---------+-----------------+----------+\n|    Yetta|A su contador SAS|  Finanzas|\n|      Jin|A su contador SAS|  Finanzas|\n|    Allen|A su contador SAS|  Finanzas|\n|   Adrian|A su contador SAS|  Finanzas|\n|  Bernard|A su contador SAS|  Finanzas|\n|     Jana|A su contador SAS|  Finanzas|\n|    Alden|A su contador SAS|  Finanzas|\n|     Kibo|A su contador SAS|  Finanzas|\n|      Joy|A su contador SAS|  Finanzas|\n|    Buffy|A su contador SAS|  Finanzas|\n|   Lenore|A su contador SAS|  Finanzas|\n|     Amos|A su contador SAS|  Finanzas|\n|  Giselle|A su contador SAS|  Finanzas|\n|Priscilla|A su contador SAS|  Finanzas|\n|     Lars|      Finakad SAS|Tecnología|\n|   Gisela|      Finakad SAS|Tecnología|\n|      Ray|      Finakad SAS|Tecnología|\n|  Leandra|      Finakad SAS|Tecnología|\n|   Althea|      Finakad SAS|Tecnología|\n|    Karly|      Finakad SAS|Tecnología|\n+---------+-----------------+----------+\nonly showing top 20 rows\n\n"
     ]
    }
   ],
   "source": [
    "spark.sql(\"\"\"\n",
    "SELECT p.NOMBRE as Empleado, e.NOMBRE_EMPRESA as Empresa_Cliente, e.SECTOR\n",
    "FROM dfPersona p\n",
    "JOIN df_empresa_temp e ON p.ID_EMPRESA = e.ID_EMPRESA\n",
    "ORDER BY e.NOMBRE_EMPRESA\n",
    "\"\"\").show()"
   ]
  }
 ],
 "metadata": {
  "application/vnd.databricks.v1+notebook": {
   "dashboards": [],
   "environmentMetadata": null,
   "language": "python",
   "notebookMetadata": {
    "mostRecentlyExecutedCommandWithImplicitDF": {
     "commandId": 4417948039652049,
     "dataframes": [
      "_sqldf"
     ]
    },
    "pythonIndentUnit": 4
   },
   "notebookName": "Practica_f3",
   "widgets": {}
  },
  "colab": {
   "provenance": []
  }
 },
 "nbformat": 4,
 "nbformat_minor": 0
}
